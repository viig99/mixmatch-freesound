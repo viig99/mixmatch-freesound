{
 "cells": [
  {
   "cell_type": "code",
   "execution_count": 3,
   "metadata": {},
   "outputs": [],
   "source": [
    "import pandas as pd\n",
    "import os\n",
    "import pickle\n",
    "import torch\n",
    "import numpy as np\n",
    "\n",
    "sub_dev = pd.read_csv('/Users/vigi99/AirtelDEV/MixMatch-pytorch/submission/submission_split_train_dev.csv', index_col='fname')\n",
    "t_dev = pd.read_csv('/Users/vigi99/AirtelDEV/MixMatch-pytorch/data/freesound/train_curated.csv_dev', index_col='fname')\n",
    "t_test = pd.read_csv('/Users/vigi99/AirtelDEV/MixMatch-pytorch/data/freesound/train_curated.csv_test', index_col='fname')\n",
    "target_dev = pd.concat([t_dev, t_test])\n",
    "lb = pickle.load(open('/Users/vigi99/AirtelDEV/MixMatch-pytorch/result/lb.pk' , 'rb'))\n",
    "join_df = sub_dev.join(target_dev)"
   ]
  },
  {
   "cell_type": "code",
   "execution_count": 4,
   "metadata": {},
   "outputs": [],
   "source": [
    "target_labels = lb.transform([label.split(',') for label in join_df['labels'].values])\n",
    "predicted_labels = join_df[lb.classes_].values"
   ]
  },
  {
   "cell_type": "code",
   "execution_count": 5,
   "metadata": {},
   "outputs": [],
   "source": [
    "import sys\n",
    "sys.path.append(os.path.abspath('../utils'))\n",
    "from eval import lwlrap_accumulator\n",
    "\n",
    "lacc = lwlrap_accumulator()\n",
    "lacc.accumulate_samples(torch.tensor(target_labels), torch.tensor(predicted_labels))"
   ]
  },
  {
   "cell_type": "code",
   "execution_count": 6,
   "metadata": {},
   "outputs": [
    {
     "name": "stdout",
     "output_type": "stream",
     "text": [
      "Hiss = 0.2692307692307692 with num of samples 2\n",
      "Computer_keyboard = 0.3451388888888889 with num of samples 4\n",
      "Keys_jangling = 0.44791666666666663 with num of samples 4\n",
      "Zipper_(clothing) = 0.47023809523809523 with num of samples 7\n",
      "Tap = 0.5606060606060606 with num of samples 6\n",
      "Walk_and_footsteps = 0.593095238095238 with num of samples 10\n",
      "Gasp = 0.632034632034632 with num of samples 7\n",
      "Squeak = 0.6367424242424242 with num of samples 8\n",
      "Fill_(with_liquid) = 0.6854166666666666 with num of samples 8\n",
      "Female_singing = 0.7061224489795919 with num of samples 7\n",
      "Fart = 0.7135416666666666 with num of samples 6\n",
      "Bathtub_(filling_or_washing) = 0.7181372549019608 with num of samples 6\n",
      "Meow = 0.7365384615384616 with num of samples 11\n",
      "Buzz = 0.7461028192371476 with num of samples 9\n",
      "Cutlery_and_silverware = 0.7471264367816092 with num of samples 5\n",
      "Yell = 0.75 with num of samples 6\n",
      "Waves_and_surf = 0.75 with num of samples 9\n",
      "Writing = 0.7569444444444444 with num of samples 10\n",
      "Slam = 0.7577160493827161 with num of samples 9\n",
      "Motorcycle = 0.7619047619047619 with num of samples 7\n",
      "Printer = 0.7664926779759317 with num of samples 11\n",
      "Frying_(food) = 0.7666666666666666 with num of samples 5\n",
      "Chewing_and_mastication = 0.7666666666666667 with num of samples 5\n",
      "Drawer_open_or_close = 0.7803030303030302 with num of samples 11\n",
      "Female_speech_and_woman_speaking = 0.791053391053391 with num of samples 9\n",
      "Traffic_noise_and_roadway_noise = 0.7916666666666667 with num of samples 8\n",
      "Screaming = 0.8055555555555557 with num of samples 6\n",
      "Dishes_and_pots_and_pans = 0.8166666666666667 with num of samples 5\n",
      "Chirp_and_tweet = 0.8173913043478261 with num of samples 5\n",
      "Cupboard_open_or_close = 0.82 with num of samples 10\n",
      "Trickle_and_dribble = 0.825 with num of samples 4\n",
      "Drip = 0.8299319727891156 with num of samples 7\n",
      "Accelerating_and_revving_and_vroom = 0.8302469135802469 with num of samples 9\n",
      "Tick-tock = 0.8303571428571429 with num of samples 8\n",
      "Raindrop = 0.8333333333333333 with num of samples 7\n",
      "Mechanical_fan = 0.8333333333333334 with num of samples 3\n",
      "Scissors = 0.8484848484848485 with num of samples 6\n",
      "Male_singing = 0.85 with num of samples 10\n",
      "Microwave_oven = 0.8541666666666666 with num of samples 6\n",
      "Bass_drum = 0.875 with num of samples 4\n",
      "Electric_guitar = 0.8839285714285714 with num of samples 8\n",
      "Male_speech_and_man_speaking = 0.8857142857142858 with num of samples 7\n",
      "Knock = 0.8888888888888888 with num of samples 6\n",
      "Bicycle_bell = 0.8958333333333333 with num of samples 8\n",
      "Crowd = 0.9 with num of samples 5\n",
      "Bass_guitar = 0.9 with num of samples 5\n",
      "Gurgling = 0.9 with num of samples 11\n",
      "Sneeze = 0.9023255813953488 with num of samples 10\n",
      "Car_passing_by = 0.9047619047619048 with num of samples 7\n",
      "Hi-hat = 0.9166666666666667 with num of samples 8\n",
      "Cricket = 0.9204545454545454 with num of samples 11\n",
      "Run = 0.9285714285714286 with num of samples 7\n",
      "Acoustic_guitar = 0.9285714285714286 with num of samples 7\n",
      "Clapping = 0.9318181818181818 with num of samples 11\n",
      "Water_tap_and_faucet = 0.9333333333333332 with num of samples 5\n",
      "Stream = 0.9375 with num of samples 8\n",
      "Glockenspiel = 0.9375 with num of samples 8\n",
      "Crackle = 0.9444444444444444 with num of samples 9\n",
      "Toilet_flush = 0.9523809523809524 with num of samples 14\n",
      "Bus = 0.9545454545454546 with num of samples 11\n",
      "Applause = 1.0 with num of samples 5\n",
      "Bark = 1.0 with num of samples 5\n",
      "Whispering = 1.0 with num of samples 7\n",
      "Finger_snapping = 1.0 with num of samples 6\n",
      "Accordion = 1.0 with num of samples 3\n",
      "Strum = 1.0 with num of samples 6\n",
      "Marimba_and_xylophone = 1.0 with num of samples 9\n",
      "Skateboard = 1.0 with num of samples 4\n",
      "Sink_(filling_or_washing) = 1.0 with num of samples 8\n",
      "Sigh = 1.0 with num of samples 7\n",
      "Shatter = 1.0 with num of samples 1\n",
      "Gong = 1.0 with num of samples 8\n",
      "Harmonica = 1.0 with num of samples 6\n",
      "Race_car_and_auto_racing = 1.0 with num of samples 5\n",
      "Purr = 1.0 with num of samples 9\n",
      "Cheering = 1.0 with num of samples 4\n",
      "Child_speech_and_kid_speaking = 1.0 with num of samples 12\n",
      "Church_bell = 1.0 with num of samples 4\n",
      "Chink_and_clink = 1.0 with num of samples 7\n",
      "Burping_and_eructation = 1.0 with num of samples 5\n"
     ]
    }
   ],
   "source": [
    "labels = np.array(lb.classes_)\n",
    "scores = np.array(lacc.per_class_lwlrap())\n",
    "num_examples = np.array(lacc._per_class_cumulative_count)\n",
    "idx = np.argsort(scores)\n",
    "sorted_labels = labels[idx].tolist()\n",
    "sorted_scores = scores[idx].tolist()\n",
    "sorted_numexamples = num_examples[idx].tolist()\n",
    "for label, score, num_example in zip(sorted_labels, sorted_scores, sorted_numexamples):\n",
    "    print(f\"{label} = {score} with num of samples {num_example}\")"
   ]
  }
 ],
 "metadata": {
  "kernelspec": {
   "display_name": "Python 3",
   "language": "python",
   "name": "python3"
  },
  "language_info": {
   "codemirror_mode": {
    "name": "ipython",
    "version": 3
   },
   "file_extension": ".py",
   "mimetype": "text/x-python",
   "name": "python",
   "nbconvert_exporter": "python",
   "pygments_lexer": "ipython3",
   "version": "3.7.2"
  }
 },
 "nbformat": 4,
 "nbformat_minor": 2
}
